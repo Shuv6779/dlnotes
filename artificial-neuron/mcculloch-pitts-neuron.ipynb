{
  "cells": [
    {
      "cell_type": "markdown",
      "metadata": {},
      "source": [
        "# The McCulloch-Pitts Neuron {#sec-mcculloch_pitts_neuron}\n",
        "\n",
        "The McCulloch-Pitts (MP) neuron is a formal model attempting to imitate select behaviour of the biological neuron: excitatory and inhibitory inputs, thresholding behaviour, a single excitatory state, ... [@mculloch-pitts-1943]. It is a binary classifier.\n",
        "\n",
        "## A basic mathematical formulation\n",
        "Let $f_{\\theta, N}$ be a boolean function (@sec-boolean_function) where $\\theta$ is a non-negative real constant called the **threshold** and $N$ is the set of indices (of the input binary tuple) corresponding to **inhibitory inputs**. We define $f_{\\theta, N}$ in the following manner,\n",
        "$$\n",
        "f_{\\theta, N}(\\textbf{x}) = \n",
        "\\begin{cases}\n",
        "1 \\text{ if } \\sum\\limits_{i = 1}^n x_i \\geq \\theta \\text { and } x_i = 0 \\;\\forall\\; i \\in N \\\\\n",
        "0 \\text{ if } \\sum\\limits_{i = 1}^n x_i < \\theta \\text{ or } \\;\\exists\\; i \\in N \\text{ s.t } x_i = 1\n",
        "\\end{cases}\n",
        "$$\n",
        "\n",
        "here $\\textbf{x}$ is an input boolean tuple and $x_i$ is the $i^{th}$ element of $\\textbf{x}$.\n",
        "\n",
        "Below is an implementation of the McCulloch pitts neuron.\n"
      ],
      "id": "7839c854"
    },
    {
      "cell_type": "code",
      "metadata": {},
      "source": [
        "import torch\n",
        "\n",
        "def McCullochPittsNeuron(x, N, theta):\n",
        "    val = torch.sum(x)\n",
        "    if (val >= theta):\n",
        "        if (torch.sum(torch.index_select(x, 0, N)) == 0):\n",
        "            return 1\n",
        "    return 0"
      ],
      "id": "4404bb84",
      "execution_count": null,
      "outputs": []
    },
    {
      "cell_type": "markdown",
      "metadata": {},
      "source": [
        "## Fitting some boolean functions\n",
        "The MP Neuron can be thought of as a boolean function approximator. An MP Neuron can match the truth table of a boolean function (at least partially) by adjusting the values of $\\theta$ and $N$. The process of finding the values of $\\theta$ and $N$ that result in the best match is called **fitting**. \n"
      ],
      "id": "aeddd02d"
    },
    {
      "cell_type": "code",
      "metadata": {},
      "source": [
        "import itertools\n",
        "from matplotlib import pyplot as plt\n",
        "\n",
        "def MPFunction(inp, N, theta):\n",
        "    y = []\n",
        "    for x in inp:\n",
        "        y.append(McCullochPittsNeuron(x, torch.tensor(N, dtype=torch.int32), theta))\n",
        "    return y\n",
        "\n",
        "def plot_MPFunction(theta, N = ()):\n",
        "    inputs = torch.tensor(list(itertools.product((0, 1), repeat = 2)), dtype = torch.int32)\n",
        "    outputs = torch.tensor(MPFunction(inputs, N, theta), dtype = torch.int32)\n",
        "    off_values = inputs[outputs == 0]\n",
        "    on_values = inputs[outputs == 1]\n",
        "\n",
        "    plt.scatter(off_values[:, 0], off_values[:, 1])\n",
        "    plt.scatter(on_values[:, 0], on_values[:, 1])"
      ],
      "id": "5eae12ea",
      "execution_count": null,
      "outputs": []
    },
    {
      "cell_type": "markdown",
      "metadata": {},
      "source": [
        "For OR,\n"
      ],
      "id": "2f134fee"
    },
    {
      "cell_type": "code",
      "metadata": {},
      "source": [
        "    plot_MPFunction(1) # theta = 1 for OR\n",
        "    plt.show()"
      ],
      "id": "4d4eee92",
      "execution_count": null,
      "outputs": []
    },
    {
      "cell_type": "markdown",
      "metadata": {},
      "source": [
        "For AND,\n"
      ],
      "id": "4a1a09cc"
    },
    {
      "cell_type": "code",
      "metadata": {},
      "source": [
        "    plot_MPFunction(2) # theta = 2 for AND\n",
        "    plt.show()"
      ],
      "id": "c7c0a34d",
      "execution_count": null,
      "outputs": []
    },
    {
      "cell_type": "markdown",
      "metadata": {},
      "source": [
        "For NAND,\n"
      ],
      "id": "4a7e76c8"
    },
    {
      "cell_type": "code",
      "metadata": {},
      "source": [
        "    plot_MPFunction(0, (0, 1))\n",
        "    plt.show()"
      ],
      "id": "44506880",
      "execution_count": null,
      "outputs": []
    },
    {
      "cell_type": "markdown",
      "metadata": {},
      "source": [
        "There are many boolean functions which the MP Neuron cannot fit.\n",
        "\n",
        "### A systematic method to fit\n",
        "You must also prove that this method is definately the most effecient way to do things.\n",
        "\n",
        "## Geometric interpretation\n",
        "The geometrical interpretation of the MP Neuron can be found by looking at it's decision boundary. The decision boundary in the case where $N=\\phi$ is given by the equation,\n",
        "$$\n",
        "    \\sum\\limits_{i = 1}^n x_i = \\theta\n",
        "$$\n",
        "\n",
        "this is nothing but a straight line in the cartesian plane when $n = 2$. Below is a plot of thE decision boundary when trying to fit the AND and OR function.\n"
      ],
      "id": "69fff105"
    },
    {
      "cell_type": "code",
      "metadata": {},
      "source": [
        "plot_MPFunction(2)\n",
        "line_xs = torch.arange(0, 200)/100\n",
        "line_ys = 2 - line_xs\n",
        "plt.plot(line_xs, line_ys)\n",
        "plt.show()\n",
        "\n",
        "plot_MPFunction(1)\n",
        "line_xs = torch.arange(0, 100)/100\n",
        "line_ys = 1 - line_xs\n",
        "plt.plot(line_xs, line_ys)\n",
        "plt.show()"
      ],
      "id": "645ff415",
      "execution_count": null,
      "outputs": []
    },
    {
      "cell_type": "markdown",
      "metadata": {},
      "source": [
        "By adjusting the value of $\\theta$ we can only change the perpendicular distance between the linear decision boundary and the origin. However, if $N\\neq\\phi$ then the decision boundary becomes non-linear.\n",
        "\n",
        "## Limitations\n",
        "1. In many practical applications, relevant information will often be non-boolean.\n",
        "2. Not all inputs have the same importance in making a decision\n",
        "3. Cannot fit functions which are not linearly seperable."
      ],
      "id": "bac95680"
    }
  ],
  "metadata": {
    "kernelspec": {
      "display_name": "Python 3",
      "language": "python",
      "name": "python3"
    }
  },
  "nbformat": 4,
  "nbformat_minor": 5
}